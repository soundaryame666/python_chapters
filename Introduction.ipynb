{
 "cells": [
  {
   "cell_type": "markdown",
   "id": "424c9ce5",
   "metadata": {},
   "source": [
    "Writing Headings and sub Headings"
   ]
  },
  {
   "cell_type": "markdown",
   "id": "b7e4a7d2",
   "metadata": {},
   "source": [
    "# Title\n",
    "## Sub title\n",
    "### Sub sub title\n",
    "#### Sub sub sub title"
   ]
  },
  {
   "cell_type": "markdown",
   "id": "508dd88a",
   "metadata": {},
   "source": [
    "# Writing python code"
   ]
  },
  {
   "cell_type": "code",
   "execution_count": 2,
   "id": "a7bb7b8e",
   "metadata": {},
   "outputs": [
    {
     "name": "stdout",
     "output_type": "stream",
     "text": [
      "2\n",
      "4\n",
      "6\n",
      "8\n"
     ]
    }
   ],
   "source": [
    "n=10\n",
    "for i in range(1,10):# hash is used to write comments\n",
    "    if i%2==0:\n",
    "        print(i)\n",
    "        "
   ]
  },
  {
   "cell_type": "markdown",
   "id": "7e178db1",
   "metadata": {},
   "source": [
    "We can download this note book as pdf,html or Ipython notebook"
   ]
  },
  {
   "cell_type": "code",
   "execution_count": null,
   "id": "99d17820",
   "metadata": {},
   "outputs": [],
   "source": []
  }
 ],
 "metadata": {
  "kernelspec": {
   "display_name": "Python 3 (ipykernel)",
   "language": "python",
   "name": "python3"
  },
  "language_info": {
   "codemirror_mode": {
    "name": "ipython",
    "version": 3
   },
   "file_extension": ".py",
   "mimetype": "text/x-python",
   "name": "python",
   "nbconvert_exporter": "python",
   "pygments_lexer": "ipython3",
   "version": "3.10.9"
  }
 },
 "nbformat": 4,
 "nbformat_minor": 5
}
